{
 "cells": [
  {
   "cell_type": "markdown",
   "metadata": {},
   "source": [
    "# EDA and Data Pre-processing"
   ]
  },
  {
   "cell_type": "code",
   "execution_count": 1,
   "metadata": {},
   "outputs": [],
   "source": [
    "# Let us import some of the basic libraries\n",
    "import numpy as np # linear algebra\n",
    "import pandas as pd # data processing\n",
    "import warnings\n",
    "import pickle\n",
    "warnings.filterwarnings('ignore')\n",
    "import matplotlib.pyplot as plt\n",
    "import seaborn as sns\n",
    "plt.style.use('ggplot')\n",
    "import os\n",
    "import distance\n",
    "from scipy import stats\n",
    "import re\n",
    "import time\n",
    "import ast\n",
    "from scipy.sparse import csr_matrix\n",
    "import string\n",
    "from collections import Counter"
   ]
  },
  {
   "cell_type": "code",
   "execution_count": 17,
   "metadata": {},
   "outputs": [],
   "source": [
    "from sklearn.feature_extraction.text import CountVectorizer # Tried this but got an accuracy of 69% :(\n",
    "from sklearn.feature_extraction.text import TfidfVectorizer # Applied this and got the accuracy of 81.4%! :D\n",
    "from sklearn import metrics\n",
    "from sklearn.svm import SVC\n",
    "from sklearn.ensemble import VotingClassifier\n",
    "from sklearn.ensemble import RandomForestClassifier\n",
    "from sklearn.linear_model import LogisticRegression\n",
    "from sklearn.multiclass import OneVsRestClassifier\n",
    "from sklearn.tree import DecisionTreeClassifier\n",
    "from sklearn.linear_model import SGDClassifier"
   ]
  },
  {
   "cell_type": "code",
   "execution_count": 3,
   "metadata": {},
   "outputs": [
    {
     "name": "stderr",
     "output_type": "stream",
     "text": [
      "[nltk_data] Downloading package punkt to C:\\Users\\Anubhav\n",
      "[nltk_data]     Bhatti\\AppData\\Roaming\\nltk_data...\n",
      "[nltk_data]   Package punkt is already up-to-date!\n"
     ]
    },
    {
     "data": {
      "text/plain": [
       "True"
      ]
     },
     "execution_count": 3,
     "metadata": {},
     "output_type": "execute_result"
    }
   ],
   "source": [
    "import nltk\n",
    "nltk.download('punkt') #install 'punkt'"
   ]
  },
  {
   "cell_type": "code",
   "execution_count": 4,
   "metadata": {},
   "outputs": [],
   "source": [
    "train_df = pd.read_json(r\"D:\\OneDrive - Queen's University\\ECE\\Statistical Learning\\Final\\train.json\\train.json\")\n",
    "test_df = pd.read_json(r\"D:\\OneDrive - Queen's University\\ECE\\Statistical Learning\\Final\\test.json\\test.json\")"
   ]
  },
  {
   "cell_type": "code",
   "execution_count": 5,
   "metadata": {},
   "outputs": [
    {
     "name": "stdout",
     "output_type": "stream",
     "text": [
      "Maximum Number of Ingredients in a Dish:  65\n",
      "Minimum Number of Ingredients in a Dish:  1\n"
     ]
    }
   ],
   "source": [
    "#Check Maximum and Minimum number of ingredients in a dish \n",
    "\n",
    "print('Maximum Number of Ingredients in a Dish: ',train_df['ingredients'].str.len().max())\n",
    "print('Minimum Number of Ingredients in a Dish: ',train_df['ingredients'].str.len().min())"
   ]
  },
  {
   "cell_type": "code",
   "execution_count": 6,
   "metadata": {},
   "outputs": [],
   "source": [
    "\"\"\"\n",
    "Provides functions for removing unwanted noise from text.\n",
    "\"\"\"\n",
    "# Code is inspired from Git hub repo:\n",
    "# https://github.com/rfliegerallison/kaggle-whats-cooking/blob/master/What's%20Cooking%20-%20Kaggle%20Competition.ipynb\n",
    "# Please note that more data cleaning has been done (modified and added more words) than the code provided above in the below\n",
    "# code\n",
    "\n",
    "# Remove Special Charater exceptions first since, we would not be able to spot them after we remove special characters.\n",
    "character_exceptions_to_remove = [\"\\xae\", \"\\xe8vre\", \"\\u2122\", \"\\xada\", \"\\xadn\", \"¬s\", \"Ã£\", \"Ã\", \"£\"]\n",
    "\n",
    "# Removing some of the phrases with a single word without spaces. \n",
    "phrase_exceptions = [(\"7 up\", \"sevenup\"), (\"sun dried\", \"sundried\"), \n",
    "                     (\"bone less\", \"boneless\"), (\"skin less\", \"skinless\")]\n",
    "\n",
    "# Handling plural values in the dataset\n",
    "deal_plural_singular = [(\"steaks\", \"steak\"), (\"loins\", \"loin\"), (\"inches\", \"inch\"), (\"centimeters\", \"centimeter\"),\n",
    "                          (\"ounces\", \"ounce\"), (\"liters\", \"liter\"), (\"mililiters\", \"mililiter\"), (\"grams\", \"gram\"),\n",
    "                          (\"cups\", \"cup\"), (\"gallons\", \"gallon\"), (\"quarts\", \"quart\"), (\"lbs\", \"lb\"),\n",
    "                          (\"pounds\", \"pound\"), (\"tablespoons\", \"tablespoon\"), (\"teaspoons\", \"teaspoon\"), \n",
    "                          (\"pints\", \"pint\"), (\"fluid ounces\", \"fluid ounce\"), (\"onions\", \"onion\"), \n",
    "                          (\"cloves\", \"clove\"), (\"bulbs\", \"bulb\"), (\"peppers\", \"pepper\"), (\"breasts\", \"breast\"),\n",
    "                          (\"eggs\", \"egg\"), (\"carrots\", \"carrot\"), (\"mushrooms\", \"mushroom\"),\n",
    "                          (\"tortillas\", \"tortilla\"), (\"sausages\", \"sausage\"), (\"wedges\", \"wedge\"), \n",
    "                          (\"tomatoes\", \"tomato\"), (\"thighs\", \"thigh\"), (\"chilies\", \"chili\"), (\"potatoes\", \"potato\"), \n",
    "                          (\"peppercorns\", \"peppercorn\"), (\"spices\", \"spice\"), (\"chiles\", \"chile\"), (\"apples\", \"apple\"),\n",
    "                          (\"legs\", \"leg\"), (\"doughs\", \"dough\"), (\"drumsticks\", \"drumstick\")]\n",
    "\n",
    "# Removing Brand names in the dataset. This is important since same ingredient can be from different brands.\n",
    "brandnames_to_remove = [\"Lea & Perrins\", \"Lea and Perrin\", \"Lea and Perrins\", \"alexia\", \"breakstones\", \n",
    "                        \"kraft\", \"bertolli classico\", \"bertolli\", \"best foods\", \n",
    "                        \"betty crocker\", \"bisquick\", \"bob evans\", \"breyers\", \"curry guy\", \"camellia\", \"campbells\", \n",
    "                        \"country crock\", \"crisco\", \"crystal farms\", \"delallo\", \"diamond crystal\", \"domino\", \n",
    "                        \"doritos\", \"earth balance\", \"egglands best\", \"foster farms\", \"franks\", \"gold medal\", \n",
    "                        \"goya\", \"green giant steamers niblets\", \"green giant\", \"heinz\", \"hellmanns\", \"herdez\", \n",
    "                        \"hidden valley\", \"honeysuckle white\", \"jacksonville\",  \"jimmy dean\", \"johnsonville\", \n",
    "                        \"knorr\", \"krudsen\", \"kikkoman\", \"lipton\", \"land o lakes\", \"mazola\", \"lea and perrins\", \n",
    "                        \"mccormick\", \"meyer\", \"mission\", \"old el paso\", \"old bay\", \"pam\", \"pepperidge farm\", \n",
    "                        \"oscar mayer\", \"pace\", \"pillsbury\", \"progresso\", \"pure wesson\", \"pompeian\", \"san marzano\", \n",
    "                        \"sargento\", \"soy vay\", \"taco bell\", \"yoplait\", \"spice islands\", \"stonefire\", \"success\", \n",
    "                        \"swanson\", \"truvía\", \"uncle bens\", \"wish bone\", \"zatarains\", \"morton\", \"jameson\", \"tapatio\", \n",
    "                        \"mountain high\", \"philadelphia\", \"king arthur\", \"roma\", \"wolf brand\", \"tabasco\"]\n",
    "\n",
    "# Removing certain key words that do not add any valuavle information to the ingredient.\n",
    "keywords_to_remove = [\"drained and chopped\", \"lowfat\", \"light\", \"shredded\", \"sliced\", \"all purpose\", \"all natural\", \"natural\", \"original\", \n",
    "                      \"gourmet\", \"traditional\", \"boneless\", \"skinless\", \"fresh\", \"nonfat\", \"pitted\", \"quick cooking\", \n",
    "                      \"unbleached\", \"part skim\", \"skim\", \"quickcooking\", \"oven ready\", \"homemade\", \"instant\", \"small\", \n",
    "                      \"extra large\", \"large\", \"chopped\", \"grated\", \"cooked\", \"stone ground\", \"freshly ground\", \n",
    "                      \"ground\", \"pure\", \"peeled\", \"deveined\", \"organic\", \"cracked\", \"granulated\", \"inch thick\", \n",
    "                      \"extra firm\", \"crushed\", \"flakes\", \"self rising\", \"diced\", \"crumbles\", \"crumbled\", \n",
    "                      \"whole wheat\", \"whole grain\", \"baby\", \"medium\", \"plain\", \"of\", \"thick cut\", \"cubed\", \"coarse\", \n",
    "                      \"free range\", \"seasoned\", \"canned\", \"multipurpose\", \"vegan\", \"thawed\", \"squeezed\", \n",
    "                      \"vegetarian\", \"fine\", \"zesty\", \"halves\", \"firmly packed\", \"drain\", \"drained\", \"washed\"]\n",
    "\n",
    "# Removing measurements as this would not add any information\n",
    "measurements_to_remove = [\"in\", \"inch\", \"cm\", \"centimeter\", \"oz\", \"ounce\", \"l\", \"liter\", \"ml\", \"mililiter\", \"g\", \n",
    "                          \"gram\", \"cup\", \"gallon\", \"quart\", \"lb\", \"pound\", \"tbsp\", \"tablespoon\", \"tsp\", \"teaspoon\", \n",
    "                          \"pint\", \"fl oz\", \"fluid ounce\"]\n",
    "\n",
    "phrases_to_remove = measurements_to_remove + keywords_to_remove + brandnames_to_remove\n",
    "\n",
    "# Mapping different phrases used to for the same ingredients\n",
    "phrases_to_map = [\n",
    "    ((\"green onion\", \"red onion\", \"purple onion\", \"yellow onion\", \"yel onion\"), \"onion\"),\n",
    "    ((\"collard green leaves\", \"collards\", \"collard leaves\"), \"collard greens\"),\n",
    "    (\"black pepper\", \"pepper\"),\n",
    "    (\"yel chives\", \"chives\"),\n",
    "    (\"spinach leaves\", \"spinach\"),\n",
    "    (\"tea leaves\", \"tea\"),\n",
    "    (\"chile\", \"chili\"),\n",
    "    ((\"garlic clove\", \"garlic bulb\"), \"garlic\"),\n",
    "    (\"uncooked\", \"raw\"),\n",
    "    ((\"red chili pepper\", \"hot chili pepper\", \"red hot chili pepper\"), \"chili pepper\"),\n",
    "    ((\"baking potato\", \"baked potato\"), \"baked potato\"),\n",
    "    ((\"sea salt\", \"kosher salt\", \"table salt\", \"white salt\", \"sea salt flakes\"), \"salt\"),\n",
    "    (\"scotch whiskey\", \"scotch\"),\n",
    "    ((\"i cant believe its not butter spread\", \"i cant believe its not butter\", \"softened butter\", \"melted butter\", \"salted butter\"), \"butter\"),\n",
    "    ((\"extra virgin olive oil\", \"virgin olive oil\"), \"olive oil\"),\n",
    "    ((\"white bread\", \"wheat bread\", \"grain bread\"), \"bread\"),\n",
    "    ((\"white sugar\", \"yel sugar\"), \"sugar\"),\n",
    "    (\"confectioners sugar\", \"powdered sugar\"), \n",
    "    ((\"whole wheat spaghetti noodles\", \"whole wheat spaghettini\"), \"whole wheat spaghetti\"),\n",
    "    (\"white tuna in water\", \"white tuna\"), ((\"white bread slices\", \"white bread crumbs\"), \"white bread\"), \n",
    "    ((\"whipped cream\", \"whipped topping\", \"whipping cream\", \"whipping heavy cream\", \"whipped topping\"), \"whipped cream\"),\n",
    "    (\"water chestnut powder\", \"water chestnuts\"), ((\"walnut halves\", \"walnut pieces\"), \"walnuts\"), \n",
    "    (\"waffle fries\", \"waffle\"), ('deli ham', 'ham'), ('taco seasoning mix', 'taco seasoning'),(\"chees\", \"cheese\"), (\"sauc\", \"sauce\"),\n",
    "    (\"paneer cheese\", \"paneer\"), (\"aleppo\", \"aleppo pepper\"), (\"all potato purpos\", \"potato\"),\n",
    "    (\"Jamaican allspice\", \"allspice pepper\"), (\"allspice\", \"allspice pepper\"),\n",
    "    (\"zucchini blossoms\", \"zucchini\"), (\"yukon gold\", \"yukon gold potatoes\"), (\"yellowfin\", \"yellowfin tuna\"),\n",
    "    (\"yellow summer squash\", \"yellow squash\"), (\"yellow mustard seeds\", \"yellow mustard\"),\n",
    "    (\"whole wheat tortilla wraps\", \"whole wheat tortilla\"), (\"vermicelli noodles\", \"vermicelli\"), (\"veggies\", \"vegetables\"),\n",
    "    ((\"vegetable oil cooking spray\", \"vegetable oil spray\"), \"vegetable oil\"), \n",
    "    ((\"vegetable soup\", \"vegetable stock\", \"vegetable stock powder\", \"vegetable slaw\"), \"vegetable broth\"), \n",
    "    ((\"vanilla essence\", \"vanilla flavoring\", \"vanilla\"), \"vanilla extract\"), (\"vanilla bean\", \"vanilla beans\"),\n",
    "    (\"urad dal split\", \"urad dal\"), ((\"original converted brand rice\", \"ready rice whole grain brown rice\"), \"rice\"),\n",
    "    (\"turnip greens\", \"turnips\"), (\"turmeric root\", \"tumeric\"), ((\"tortilla wraps\", \"tortilla shells\"), \"tortillas\"), \n",
    "    ((\"tortelloni\", \"tortellini, cook and drain\"), \"tortellini\"), (\"top sirloin steak\", \"top sirloin\"),\n",
    "    ((\"thyme\", \"thyme leaves\", \"thyme sprig\", \"thyme sprigs\"), \"thyme\"), (\"spinach leaves\", \"spinach\"), \n",
    "    ((\"spaghetti squash\",\"spaghetti, cook and drain\", \"spaghettini\"), \"spaghetti\"), (\"sliced mushrooms\", \"mushrooms\"), \n",
    "    ((\"sesame\", \"sesame paste\", \"sesame seed paste\", \"toasted sesame seeds\", \"roasted sesame seeds\"), \"sesame seeds\"), \n",
    "    ((\"dark sesame oil\", \"toasted sesame oil\"), \"sesame oil\"), (\"serrano chilies\", \"serrano chile\"), \n",
    "    (\"scallion greens\", \"scallions\"), ((\"saffron powder\", \"saffron threads\"), \"saffron\")]\n",
    "\n",
    "# Removind the special characters at last!\n",
    "replace_punc_space = re.compile(r\"[-,]\")\n",
    "remove_percentage_less = re.compile(r\"[\\d+]% less [A-z]*\")\n",
    "remove_percentage_reduced = re.compile(r\"[\\d+]% reduced [A-z]*\")\n",
    "remove_special_char = re.compile(r\"[!\\\\/%.'®™Ã£Âº©¢â€žÂ¢â„¢¨â‚¬§]\")\n",
    "remove_digits = re.compile(r\"\\d+\")\n",
    "replace_symbols_and = re.compile(r\"[&+]\")\n",
    "remove_parantheses_content = re.compile(r\"\\([^)]*\\)\")\n",
    "remove_betweeen_no_added = re.compile(r\"no [A-z]* added\")\n",
    "reove_reduced_word = re.compile(r\"reduced [A-z]*\")\n",
    "remove_low_and_following_word = re.compile(r\"low [A-z]*\")\n",
    "remove_less_and_following_word = re.compile(r\"less [A-z]*\")\n",
    "remove_free_and_previous_word = re.compile(r\"[A-z]* free\")\n",
    "trim_multi_spaces = re.compile(r\" +\")"
   ]
  },
  {
   "cell_type": "code",
   "execution_count": 7,
   "metadata": {},
   "outputs": [],
   "source": [
    "# Defining functions to call the above code for data cleaning!\n",
    "\n",
    "# Code is inspired from Git hub repo:\n",
    "# https://github.com/rfliegerallison/kaggle-whats-cooking/blob/master/What's%20Cooking%20-%20Kaggle%20Competition.ipynb\n",
    "# Please note the modification have been made in the code from the above repo before using it in my code.\n",
    "\n",
    "def clean_column(ingredient):\n",
    "    \n",
    "    ingredient = ingredient.lower()\n",
    "    ingredient = replace_punc_space.sub(\" \", ingredient)\n",
    "    \n",
    "    # Map certain exceptions that we don't want whiped out by later cleaning processes.\n",
    "    for character_exception in character_exceptions_to_remove:\n",
    "        ingredient = re.sub(character_exception, \"\", ingredient)\n",
    "    for phrase_exception, replacement in phrase_exceptions:\n",
    "        ingredient = re.sub(r\"\\b{}\\b\".format(phrase_exception), replacement, ingredient)\n",
    "        \n",
    "    ingredient = remove_percentage_less.sub(\"\", ingredient)\n",
    "    ingredient = remove_percentage_reduced.sub(\"\", ingredient)\n",
    "    ingredient = remove_special_char.sub(\"\", ingredient)\n",
    "    ingredient = remove_digits.sub(\"\", ingredient)\n",
    "    ingredient = replace_symbols_and.sub(\" and \", ingredient)\n",
    "    ingredient = remove_parantheses_content.sub(\" \", ingredient)\n",
    "    ingredient = remove_betweeen_no_added.sub(\"\", ingredient)\n",
    "    ingredient = reove_reduced_word.sub(\"\", ingredient)\n",
    "    ingredient = remove_low_and_following_word.sub(\"\", ingredient)\n",
    "    ingredient = remove_less_and_following_word.sub(\"\", ingredient)\n",
    "    ingredient = remove_free_and_previous_word.sub(\"\", ingredient)\n",
    "    ingredient = trim_multi_spaces.sub(\" \", ingredient)\n",
    "\n",
    "    for plural, singular in deal_plural_singular:\n",
    "        ingredient = re.sub(r\"\\b{}\\b\".format(plural), singular, ingredient)\n",
    "\n",
    "    for phrase in phrases_to_remove:\n",
    "        ingredient = re.sub(r\"\\b{}\\b\".format(phrase), \"\", ingredient)\n",
    "    \n",
    "    for pattern, replacement in phrases_to_map:\n",
    "        if type(pattern) is tuple:\n",
    "            for val in pattern:\n",
    "                ingredient = re.sub(r\"\\b{}\\b\".format(val), replacement, ingredient)\n",
    "        elif type(pattern) is str:\n",
    "            ingredient = re.sub(r\"\\b{}\\b\".format(pattern), replacement, ingredient)\n",
    "    \n",
    "    ingredient = trim_multi_spaces.sub(\" \", ingredient)\n",
    "    ingredient = ingredient.strip()\n",
    "    return ingredient\n",
    "\n",
    "def clean_recipe(recipe):\n",
    "    recipe = list(map(clean_column, recipe))\n",
    "    recipe = [ingredient for ingredient in recipe if len(ingredient) > 0]\n",
    "    return recipe\n",
    "\n",
    "def clean_raw_data(raw_data):\n",
    "    clean_data = raw_data['ingredients'].apply(clean_recipe)\n",
    "    return clean_data"
   ]
  },
  {
   "cell_type": "code",
   "execution_count": 8,
   "metadata": {},
   "outputs": [],
   "source": [
    "# Storing the clean ingredients back to train and test dataset!\n",
    "\n",
    "train = clean_raw_data(train_df)\n",
    "test = clean_raw_data(test_df)\n",
    "\n",
    "train_df['ingredients'] = train\n",
    "test_df['ingredients'] = test"
   ]
  },
  {
   "cell_type": "code",
   "execution_count": 9,
   "metadata": {},
   "outputs": [
    {
     "data": {
      "text/plain": [
       "list"
      ]
     },
     "execution_count": 9,
     "metadata": {},
     "output_type": "execute_result"
    }
   ],
   "source": [
    "type(train_df['ingredients'][0])"
   ]
  },
  {
   "cell_type": "code",
   "execution_count": 10,
   "metadata": {},
   "outputs": [],
   "source": [
    "train_df['seperated_ingredients'] = train_df['ingredients'].apply(','.join)\n",
    "test_df['seperated_ingredients'] = test_df['ingredients'].apply(','.join)"
   ]
  },
  {
   "cell_type": "code",
   "execution_count": 15,
   "metadata": {},
   "outputs": [
    {
     "data": {
      "text/plain": [
       "Text(0.5, 1.0, 'Ingredients in a Dish Distribution')"
      ]
     },
     "execution_count": 15,
     "metadata": {},
     "output_type": "execute_result"
    },
    {
     "data": {
      "image/png": "[encoded data removed]",
      "text/plain": [
       "<Figure size 1080x504 with 1 Axes>"
      ]
     },
     "metadata": {
      "needs_background": "light"
     },
     "output_type": "display_data"
    }
   ],
   "source": [
    "# Let's see the distribution of ingredient length\n",
    "\n",
    "fig, ax1 = plt.subplots()\n",
    "fig.set_size_inches(15, 7)\n",
    "\n",
    "sns.distplot(train_df['ingredients'].str.len(),bins=max(train_df['ingredients'].str.len()), \n",
    "             kde=False, axlabel='Ingredients')\n",
    "# plt.hist(train_df['ingredients'].str.len(),bins=max(train_df['ingredients'].str.len()),edgecolor='b')\n",
    "plt.title('Ingredients in a Dish Distribution')"
   ]
  },
  {
   "cell_type": "code",
   "execution_count": 16,
   "metadata": {},
   "outputs": [
    {
     "data": {
      "text/plain": [
       "Text(0.5, 1.0, 'Cuisine Distribution')"
      ]
     },
     "execution_count": 16,
     "metadata": {},
     "output_type": "execute_result"
    },
    {
     "data": {
      "image/png": "[encoded data removed]",
      "text/plain": [
       "<Figure size 1080x504 with 1 Axes>"
      ]
     },
     "metadata": {
      "needs_background": "light"
     },
     "output_type": "display_data"
    }
   ],
   "source": [
    "sns.countplot(y='cuisine', data=train_df, palette=sns.color_palette('inferno', 15))\n",
    "plt.gcf().set_size_inches(15,7)\n",
    "plt.title('Cuisine Distribution', size=20)"
   ]
  },
  {
   "cell_type": "code",
   "execution_count": 35,
   "metadata": {},
   "outputs": [],
   "source": [
    "def word_dict():\n",
    "    ingre_dt = {}\n",
    "    for row in range(len(train_df)):\n",
    "        for inc in range(len(train_df['ingredients'].values[row])):\n",
    "            if train_df['ingredients'].values[row][inc] not in ingre_dt:\n",
    "                ingre_dt[train_df['ingredients'].values[row][inc]] = 1\n",
    "            else:\n",
    "                ingre_dt[train_df['ingredients'].values[row][inc]] = ingre_dt[train_df['ingredients'].values[row][inc]] + 1\n",
    "    return ingre_dt"
   ]
  },
  {
   "cell_type": "code",
   "execution_count": 36,
   "metadata": {},
   "outputs": [
    {
     "data": {
      "text/plain": [
       "<matplotlib.axes._subplots.AxesSubplot at 0x1ac3e69d9c8>"
      ]
     },
     "execution_count": 36,
     "metadata": {},
     "output_type": "execute_result"
    },
    {
     "data": {
      "image/png": "[encoded data removed]",
      "text/plain": [
       "<Figure size 1080x360 with 1 Axes>"
      ]
     },
     "metadata": {
      "needs_background": "light"
     },
     "output_type": "display_data"
    }
   ],
   "source": [
    "# plotting top ten ingredients in all cuisines\n",
    "wrd_dict = word_dict()\n",
    "wrd_plot = pd.DataFrame.from_dict(wrd_dict, orient = 'index', columns=['count']).reset_index()\n",
    "fig, ax1 = plt.subplots()\n",
    "fig.set_size_inches(15, 5)\n",
    "\n",
    "sns.barplot(x='index', y = 'count', data=wrd_plot.sort_values(by=['count'], ascending=False)[:10], ax = ax1)"
   ]
  },
  {
   "cell_type": "code",
   "execution_count": 50,
   "metadata": {},
   "outputs": [],
   "source": [
    "# Pickling the training and test dataset so, that we can use it other files for training our model.\n",
    "\n",
    "pickle.dump(train_df, open(\"train_df.pkl\", \"wb\"))\n",
    "pickle.dump(test_df, open(\"test_df.pkl\", \"wb\"))"
   ]
  },
  {
   "cell_type": "code",
   "execution_count": 3,
   "metadata": {},
   "outputs": [],
   "source": [
    "# Loading the pickle files!\n",
    "train_df = pickle.load(open(r'train_df.pkl', 'rb'))\n",
    "test_df = pickle.load(open(r'test_df.pkl', 'rb'))"
   ]
  },
  {
   "cell_type": "code",
   "execution_count": 18,
   "metadata": {},
   "outputs": [],
   "source": [
    "# Using the TFid Vectorizer instead of Count Vectorizer since, count vectorizer did not perform well on the test dataset \n",
    "# even after performing all the data cleaning for hours!\n",
    "\n",
    "vect = TfidfVectorizer(binary=True).fit(train_df['seperated_ingredients'].values)\n",
    "X_train_vectorized = vect.transform(train_df['seperated_ingredients'].values)\n",
    "X_train_vectorized = X_train_vectorized.astype('float')\n",
    "Result_transformed = vect.transform(test_df['seperated_ingredients'].values)\n",
    "Result_transformed = Result_transformed.astype('float')"
   ]
  },
  {
   "cell_type": "code",
   "execution_count": 20,
   "metadata": {},
   "outputs": [
    {
     "data": {
      "text/plain": [
       "TfidfVectorizer(analyzer='word', binary=True, decode_error='strict',\n",
       "                dtype=<class 'numpy.float64'>, encoding='utf-8',\n",
       "                input='content', lowercase=True, max_df=1.0, max_features=None,\n",
       "                min_df=1, ngram_range=(1, 1), norm='l2', preprocessor=None,\n",
       "                smooth_idf=True, stop_words=None, strip_accents=None,\n",
       "                sublinear_tf=False, token_pattern='(?u)\\\\b\\\\w\\\\w+\\\\b',\n",
       "                tokenizer=None, use_idf=True, vocabulary=None)"
      ]
     },
     "execution_count": 20,
     "metadata": {},
     "output_type": "execute_result"
    }
   ],
   "source": [
    "# Lisitng the parameters of the vectorizer\n",
    "\n",
    "vect"
   ]
  },
  {
   "cell_type": "code",
   "execution_count": 21,
   "metadata": {},
   "outputs": [
    {
     "name": "stdout",
     "output_type": "stream",
     "text": [
      "(39774, 2811)\n"
     ]
    }
   ],
   "source": [
    "print(X_train_vectorized.shape)"
   ]
  },
  {
   "cell_type": "code",
   "execution_count": 22,
   "metadata": {},
   "outputs": [
    {
     "name": "stdout",
     "output_type": "stream",
     "text": [
      "(9944, 2811)\n"
     ]
    }
   ],
   "source": [
    "print(Result_transformed.shape)"
   ]
  },
  {
   "cell_type": "code",
   "execution_count": 50,
   "metadata": {},
   "outputs": [
    {
     "name": "stdout",
     "output_type": "stream",
     "text": [
      "  (0, 167)\t0.22621776458221407\n",
      "  (0, 224)\t0.2393211443585159\n",
      "  (0, 488)\t0.15826297502552586\n",
      "  (0, 887)\t0.3314812278835899\n",
      "  (0, 1007)\t0.4236034505026212\n",
      "  (0, 1013)\t0.11481702935361618\n",
      "  (0, 1085)\t0.3819340006970674\n",
      "  (0, 1417)\t0.29043363152489127\n",
      "  (0, 1739)\t0.284570292652213\n",
      "  (0, 1743)\t0.12077625394858096\n",
      "  (0, 1858)\t0.10814801110620453\n",
      "  (0, 2139)\t0.37359935919931186\n",
      "  (0, 2241)\t0.2508479651597488\n",
      "  (0, 2589)\t0.1549564465503938\n"
     ]
    }
   ],
   "source": [
    "print(X_train_vectorized[0])"
   ]
  },
  {
   "cell_type": "code",
   "execution_count": 23,
   "metadata": {},
   "outputs": [],
   "source": [
    "from sklearn.preprocessing import LabelEncoder\n",
    "\n",
    "encoder = LabelEncoder()\n",
    "y_transformed = encoder.fit_transform(train_df.cuisine)"
   ]
  },
  {
   "cell_type": "code",
   "execution_count": 24,
   "metadata": {},
   "outputs": [],
   "source": [
    "from sklearn.model_selection import train_test_split\n",
    "X_train, X_test, y_train, y_test = train_test_split(X_train_vectorized, y_transformed, random_state = 0)"
   ]
  },
  {
   "cell_type": "markdown",
   "metadata": {},
   "source": [
    "# Training Logistic Regression"
   ]
  },
  {
   "cell_type": "code",
   "execution_count": 25,
   "metadata": {},
   "outputs": [
    {
     "data": {
      "text/plain": [
       "0.7934432823813354"
      ]
     },
     "execution_count": 25,
     "metadata": {},
     "output_type": "execute_result"
    }
   ],
   "source": [
    "# Training the Logistic Regression with default parameters\n",
    "clf1 = LogisticRegression(C=10,dual=False)\n",
    "clf1.fit(X_train , y_train)\n",
    "clf1.score(X_test, y_test)\n",
    "\n",
    "# Seems it is doing well on the validation dataset \n",
    "# Let's try it on the test dataset now!"
   ]
  },
  {
   "cell_type": "code",
   "execution_count": 27,
   "metadata": {},
   "outputs": [],
   "source": [
    "# Predicting on test dataset with Logistic Regression with default parameters\n",
    "clf1.fit(X_train_vectorized, y_transformed)\n",
    "y_predicted = clf1.predict(Result_transformed)\n",
    "y_predicted_final = encoder.inverse_transform(y_predicted)\n",
    "predictions = pd.DataFrame({'cuisine' : y_predicted_final , 'id' : test_df.id })\n",
    "predictions = predictions[[ 'id' , 'cuisine']]\n",
    "predictions.to_csv('submit_LR_default.csv', index = False) # Kaggle Score 0.78751! Not bad!\n",
    "# I will try to fine tune the parameter 'C' for Logistic Regression now."
   ]
  },
  {
   "cell_type": "markdown",
   "metadata": {},
   "source": [
    "For Grid Search code, please refer to notebook named \"Grid Search Logistic Regression.ipynb\""
   ]
  },
  {
   "cell_type": "code",
   "execution_count": 28,
   "metadata": {},
   "outputs": [
    {
     "data": {
      "text/plain": [
       "0.7944489139179405"
      ]
     },
     "execution_count": 28,
     "metadata": {},
     "output_type": "execute_result"
    }
   ],
   "source": [
    "# Now, let's try with optimized parameters from Grid Search 'Enter the name of the File' for Logistic Regression\n",
    "clf1 = LogisticRegression(C = 4.281332398719396, penalty = 'l2', solver = 'liblinear' , dual=False)\n",
    "clf1.fit(X_train , y_train)\n",
    "clf1.score(X_test, y_test)"
   ]
  },
  {
   "cell_type": "code",
   "execution_count": 29,
   "metadata": {},
   "outputs": [],
   "source": [
    "# Predicting on test dataset with Logistic Regression with grid parameters\n",
    "clf1.fit(X_train_vectorized, y_transformed)\n",
    "y_predicted = clf1.predict(Result_transformed)\n",
    "y_predicted_final = encoder.inverse_transform(y_predicted)\n",
    "predictions = pd.DataFrame({'cuisine' : y_predicted_final , 'id' : test_df.id })\n",
    "predictions = predictions[[ 'id' , 'cuisine']]\n",
    "predictions.to_csv('submit_LR_best.csv', index = False) # Kaggle Score 0.78841! okay! -_-"
   ]
  },
  {
   "cell_type": "markdown",
   "metadata": {},
   "source": [
    "# Training SVC"
   ]
  },
  {
   "cell_type": "code",
   "execution_count": 30,
   "metadata": {},
   "outputs": [
    {
     "data": {
      "text/plain": [
       "0.8111423974255833"
      ]
     },
     "execution_count": 30,
     "metadata": {},
     "output_type": "execute_result"
    }
   ],
   "source": [
    "# Training with random parameters\n",
    "\n",
    "clf2 = SVC(C=100, gamma=1, kernel='rbf')\n",
    "clf2.fit(X_train , y_train)\n",
    "clf2.score(X_test, y_test)"
   ]
  },
  {
   "cell_type": "code",
   "execution_count": 31,
   "metadata": {},
   "outputs": [],
   "source": [
    "clf2.fit(X_train_vectorized, y_transformed)\n",
    "y_predicted = clf2.predict(Result_transformed)\n",
    "y_predicted_final = encoder.inverse_transform(y_predicted)\n",
    "predictions = pd.DataFrame({'cuisine': y_predicted_final, 'id': test_df.id})\n",
    "predictions = predictions[['id', 'cuisine']]\n",
    "predictions.to_csv('submit_SVC_random.csv', index = False) # kaggle score 0.80812! great!\n",
    "\n",
    "# For Grid Search prediction please refer the notebook named \"Grid Search SVC.ipynb\""
   ]
  },
  {
   "cell_type": "markdown",
   "metadata": {},
   "source": [
    "For Grid Search code, please refer to notebook named \"Grid Search SVC.ipynb\""
   ]
  },
  {
   "cell_type": "code",
   "execution_count": 32,
   "metadata": {},
   "outputs": [
    {
     "name": "stdout",
     "output_type": "stream",
     "text": [
      "[LibSVM]"
     ]
    },
    {
     "data": {
      "text/plain": [
       "0.8118463395012068"
      ]
     },
     "execution_count": 32,
     "metadata": {},
     "output_type": "execute_result"
    }
   ],
   "source": [
    "clf2 = SVC(C= 10, gamma= 1, kernel= 'rbf', verbose = 1) # Grid Search parameters\n",
    "clf2.fit(X_train , y_train)\n",
    "clf2.score(X_test, y_test)"
   ]
  },
  {
   "cell_type": "code",
   "execution_count": 33,
   "metadata": {},
   "outputs": [
    {
     "name": "stdout",
     "output_type": "stream",
     "text": [
      "[LibSVM]"
     ]
    }
   ],
   "source": [
    "clf2.fit(X_train_vectorized, y_transformed)\n",
    "y_predicted = clf2.predict(Result_transformed)\n",
    "y_predicted_final = encoder.inverse_transform(y_predicted)\n",
    "predictions = pd.DataFrame({'cuisine': y_predicted_final, 'id': test_df.id})\n",
    "predictions = predictions[['id', 'cuisine']]\n",
    "predictions.to_csv('submit_SVC_best_grid_params.csv', index = False) # kaggle score 0.80842! great!\n",
    "# Now, I can select these parameters for my voting classifier!"
   ]
  },
  {
   "cell_type": "markdown",
   "metadata": {},
   "source": [
    "# Training SGD Classifier"
   ]
  },
  {
   "cell_type": "code",
   "execution_count": 38,
   "metadata": {},
   "outputs": [
    {
     "data": {
      "text/plain": [
       "0.7823813354786806"
      ]
     },
     "execution_count": 38,
     "metadata": {},
     "output_type": "execute_result"
    }
   ],
   "source": [
    "clf3 = SGDClassifier(n_jobs=-1) # default parameters\n",
    "\n",
    "clf3.fit(X_train , y_train)\n",
    "clf3.score(X_test, y_test)"
   ]
  },
  {
   "cell_type": "code",
   "execution_count": 39,
   "metadata": {},
   "outputs": [],
   "source": [
    "clf3.fit(X_train_vectorized, y_transformed)\n",
    "y_predicted = clf3.predict(Result_transformed)\n",
    "y_predicted_final = encoder.inverse_transform(y_predicted)\n",
    "predictions = pd.DataFrame({'cuisine': y_predicted_final, 'id': test_df.id})\n",
    "predictions = predictions[['id', 'cuisine']]\n",
    "predictions.to_csv('submit_SGD_default.csv', index = False) # kaggle score 0.77373!\n",
    "\n",
    "# Let's fine tune it a little bit.\n",
    "# For Grid Search please refer the notebook named \"Grid Seearch SGD.ipynb\""
   ]
  },
  {
   "cell_type": "markdown",
   "metadata": {},
   "source": [
    "For Grid Search code, please refer to notebook named \"Grid Seearch SGD.ipynb\""
   ]
  },
  {
   "cell_type": "code",
   "execution_count": 41,
   "metadata": {},
   "outputs": [
    {
     "data": {
      "text/plain": [
       "0.7871078037007241"
      ]
     },
     "execution_count": 41,
     "metadata": {},
     "output_type": "execute_result"
    }
   ],
   "source": [
    "clf3 = SGDClassifier(alpha = 4e-05, loss = 'hinge', max_iter = 1000, n_jobs = -1, penalty = 'l2') # Grid parameters\n",
    "\n",
    "clf3.fit(X_train , y_train)\n",
    "clf3.score(X_test, y_test)"
   ]
  },
  {
   "cell_type": "code",
   "execution_count": 42,
   "metadata": {},
   "outputs": [],
   "source": [
    "clf3.fit(X_train_vectorized, y_transformed)\n",
    "y_predicted = clf3.predict(Result_transformed)\n",
    "y_predicted_final = encoder.inverse_transform(y_predicted)\n",
    "predictions = pd.DataFrame({'cuisine': y_predicted_final, 'id': test_df.id})\n",
    "predictions = predictions[['id', 'cuisine']]\n",
    "predictions.to_csv('submit_SGD_best_grid_params.csv', index = False) # kaggle score 0.78077!"
   ]
  },
  {
   "cell_type": "markdown",
   "metadata": {},
   "source": [
    "# Training with Neural Networks!"
   ]
  },
  {
   "cell_type": "markdown",
   "metadata": {},
   "source": [
    "#### I have also trained the neural networks for prediction. Since, GPU was required to train the nets, I used Google's Colaboratory for training and prediction. \n",
    "\n",
    "#### The code along with the results can be found in the file name \"Neural Networks for What's Cooking.ipynb\"\n",
    "\n",
    "For Neural Networks, I trained five different networks with different arhitecture i.e., with different nodes, hidden layers, droupout values, regularization values, and early stopping. However, the performance I could get was from the simplest model i.e., neural network 1\n",
    "\n",
    "### (kaggle score of 0.77051) "
   ]
  },
  {
   "cell_type": "markdown",
   "metadata": {},
   "source": [
    "# Training Random Forest Classifier"
   ]
  },
  {
   "cell_type": "code",
   "execution_count": 43,
   "metadata": {},
   "outputs": [
    {
     "name": "stderr",
     "output_type": "stream",
     "text": [
      "[Parallel(n_jobs=1)]: Using backend SequentialBackend with 1 concurrent workers.\n",
      "[Parallel(n_jobs=1)]: Done  10 out of  10 | elapsed:    4.3s finished\n",
      "[Parallel(n_jobs=1)]: Using backend SequentialBackend with 1 concurrent workers.\n",
      "[Parallel(n_jobs=1)]: Done  10 out of  10 | elapsed:    0.0s finished\n"
     ]
    },
    {
     "data": {
      "text/plain": [
       "0.7039420756234915"
      ]
     },
     "execution_count": 43,
     "metadata": {},
     "output_type": "execute_result"
    }
   ],
   "source": [
    "clf4 = RandomForestClassifier(verbose = 1)\n",
    "clf4.fit(X_train , y_train)\n",
    "clf4.score(X_test, y_test)"
   ]
  },
  {
   "cell_type": "markdown",
   "metadata": {},
   "source": [
    "For Grid Search code, please refer to notebook named \"Grid Seearch Random Forest.ipynb\""
   ]
  },
  {
   "cell_type": "code",
   "execution_count": 44,
   "metadata": {},
   "outputs": [],
   "source": [
    "# Training with Grid Search parameters\n",
    "best_params = {'bootstrap': 'True', 'criterion': 'gini', 'max_depth': None,\n",
    "               'max_features': 'auto', 'min_samples_split': 3,'n_estimators': 800}\n",
    "\n",
    "clf4 = RandomForestClassifier(**best_params)\n",
    "clf4.fit(X_train_vectorized, y_transformed)\n",
    "y_predicted = clf4.predict(Result_transformed)\n",
    "y_predicted_final = encoder.inverse_transform(y_predicted)\n",
    "predictions = pd.DataFrame({'cuisine': y_predicted_final, 'id': test_df.id})\n",
    "predictions = predictions[['id', 'cuisine']]\n",
    "predictions.to_csv('submit_RF_best_grid_params.csv', index = False) # kaggle score 0.75955!"
   ]
  },
  {
   "cell_type": "markdown",
   "metadata": {},
   "source": [
    "# Training Decision Tree Classifier with OneVsRest Classifier"
   ]
  },
  {
   "cell_type": "code",
   "execution_count": 45,
   "metadata": {},
   "outputs": [
    {
     "data": {
      "text/plain": [
       "0.5990547063555913"
      ]
     },
     "execution_count": 45,
     "metadata": {},
     "output_type": "execute_result"
    }
   ],
   "source": [
    "clf5 = OneVsRestClassifier(DecisionTreeClassifier())\n",
    "\n",
    "clf5.fit(X_train , y_train)\n",
    "clf5.score(X_test, y_test)"
   ]
  },
  {
   "cell_type": "code",
   "execution_count": 46,
   "metadata": {},
   "outputs": [],
   "source": [
    "clf5.fit(X_train_vectorized, y_transformed)\n",
    "y_predicted = clf5.predict(Result_transformed)\n",
    "y_predicted_final = encoder.inverse_transform(y_predicted)\n",
    "predictions = pd.DataFrame({'cuisine': y_predicted_final, 'id': test_df.id})\n",
    "predictions = predictions[['id', 'cuisine']]\n",
    "predictions.to_csv('submit_DT_default.csv', index = False) # kaggle score 0.60166!"
   ]
  },
  {
   "cell_type": "markdown",
   "metadata": {},
   "source": [
    "# Training with VotingClassifier and using best parameters of SVC, SGD, and Logistic Regressor (Best kaggle score for me)"
   ]
  },
  {
   "cell_type": "code",
   "execution_count": 25,
   "metadata": {},
   "outputs": [
    {
     "name": "stderr",
     "output_type": "stream",
     "text": [
      "[Parallel(n_jobs=-1)]: Using backend ThreadingBackend with 8 concurrent workers.\n"
     ]
    },
    {
     "name": "stdout",
     "output_type": "stream",
     "text": [
      "-- Epoch 1\n",
      "-- Epoch 1\n",
      "-- Epoch 1\n",
      "-- Epoch 1\n",
      "-- Epoch 1\n",
      "-- Epoch 1\n",
      "-- Epoch 1\n",
      "-- Epoch 1\n",
      "Norm: 20.32, NNZs: 2811, Bias: -3.472103, T: 39774, Avg. loss: 0.041581Norm: 24.91, NNZs: 2811, Bias: -3.544685, T: 39774, Avg. loss: 0.072164\n",
      "\n",
      "Total training time: 0.02 seconds.\n",
      "Total training time: 0.02 seconds.\n",
      "-- Epoch 2\n",
      "-- Epoch 2\n",
      "Norm: 29.62, NNZs: 2811, Bias: -3.043829, T: 39774, Avg. loss: 0.073306\n",
      "Total training time: 0.02 seconds.\n",
      "-- Epoch 2\n",
      "Norm: 24.42, NNZs: 2811, Bias: -3.509914, T: 39774, Avg. loss: 0.055574\n",
      "Total training time: 0.02 seconds.\n",
      "-- Epoch 2\n",
      "Norm: 28.08, NNZs: 2811, Bias: -3.270309, T: 39774, Avg. loss: 0.084943\n",
      "Total training time: 0.02 seconds.\n",
      "-- Epoch 2\n",
      "Norm: 23.22, NNZs: 2811, Bias: -3.003041, T: 39774, Avg. loss: 0.063971\n",
      "Total training time: 0.02 seconds.\n",
      "-- Epoch 2\n",
      "Norm: 30.82, NNZs: 2811, Bias: -2.446051, T: 39774, Avg. loss: 0.146431\n",
      "Total training time: 0.02 seconds.\n",
      "-- Epoch 2\n",
      "Norm: 24.30, NNZs: 2811, Bias: -3.431236, T: 39774, Avg. loss: 0.055127\n",
      "Total training time: 0.02 seconds.\n",
      "-- Epoch 2\n",
      "Norm: 24.38, NNZs: 2811, Bias: -3.753850, T: 79548, Avg. loss: 0.062926\n",
      "Total training time: 0.03 seconds.\n",
      "-- Epoch 3\n",
      "Norm: 29.00, NNZs: 2811, Bias: -3.199146, T: 79548, Avg. loss: 0.065088Norm: 20.04, NNZs: 2811, Bias: -3.704775, T: 79548, Avg. loss: 0.036478\n",
      "Total training time: 0.04 seconds.\n",
      "\n",
      "Total training time: 0.03 seconds.\n",
      "-- Epoch 3\n",
      "-- Epoch 3\n",
      "Norm: 24.57, NNZs: 2811, Bias: -3.707466, T: 79548, Avg. loss: 0.048791\n",
      "Total training time: 0.03 seconds.\n",
      "Norm: 27.40, NNZs: 2811, Bias: -3.421931, T: 79548, Avg. loss: 0.074919\n",
      "Total training time: 0.04 seconds.-- Epoch 3\n",
      "\n",
      "-- Epoch 3\n",
      "Norm: 22.90, NNZs: 2811, Bias: -3.193580, T: 79548, Avg. loss: 0.056887\n",
      "Total training time: 0.03 seconds.\n",
      "-- Epoch 3\n",
      "Norm: 29.87, NNZs: 2811, Bias: -2.499260, T: 79548, Avg. loss: 0.128442\n",
      "Total training time: 0.03 seconds.\n",
      "-- Epoch 3\n",
      "Norm: 23.81, NNZs: 2811, Bias: -3.613046, T: 79548, Avg. loss: 0.048564\n",
      "Total training time: 0.03 seconds.\n",
      "-- Epoch 3\n",
      "Norm: 24.37, NNZs: 2811, Bias: -3.825591, T: 119322, Avg. loss: 0.061834\n",
      "Total training time: 0.05 seconds.\n",
      "-- Epoch 4\n",
      "Norm: 19.75, NNZs: 2811, Bias: -3.834443, T: 119322, Avg. loss: 0.035861\n",
      "Total training time: 0.05 seconds.\n",
      "-- Epoch 4\n",
      "Norm: 28.82, NNZs: 2811, Bias: -3.284603, T: 119322, Avg. loss: 0.064019\n",
      "Total training time: 0.05 seconds.\n",
      "-- Epoch 4\n",
      "Norm: 27.27, NNZs: 2811, Bias: -3.502152, T: 119322, Avg. loss: 0.073608Norm: 23.95, NNZs: 2811, Bias: -3.834790, T: 119322, Avg. loss: 0.047560\n",
      "Total training time: 0.05 seconds.\n",
      "\n",
      "Total training time: 0.05 seconds.\n",
      "-- Epoch 4\n",
      "-- Epoch 4\n",
      "Norm: 22.67, NNZs: 2811, Bias: -3.265042, T: 119322, Avg. loss: 0.055921\n",
      "Total training time: 0.05 seconds.\n",
      "-- Epoch 4\n",
      "Norm: 29.59, NNZs: 2811, Bias: -2.511711, T: 119322, Avg. loss: 0.126492\n",
      "Total training time: 0.04 seconds.\n",
      "-- Epoch 4\n",
      "Norm: 23.45, NNZs: 2811, Bias: -3.739063, T: 119322, Avg. loss: 0.047635\n",
      "Total training time: 0.04 seconds.\n",
      "-- Epoch 4\n",
      "Norm: 24.37, NNZs: 2811, Bias: -3.885923, T: 159096, Avg. loss: 0.061659\n",
      "Total training time: 0.06 seconds.\n",
      "-- Epoch 5\n",
      "Norm: 19.61, NNZs: 2811, Bias: -3.926949, T: 159096, Avg. loss: 0.035437\n",
      "Total training time: 0.07 seconds.\n",
      "-- Epoch 5\n",
      "Norm: 28.69, NNZs: 2811, Bias: -3.331310, T: 159096, Avg. loss: 0.063601\n",
      "Total training time: 0.06 seconds.\n",
      "-- Epoch 5\n",
      "Norm: 24.05, NNZs: 2811, Bias: -3.896368, T: 159096, Avg. loss: 0.047510\n",
      "Total training time: 0.06 seconds.Norm: 27.18, NNZs: 2811, Bias: -3.534876, T: 159096, Avg. loss: 0.073165\n",
      "\n",
      "Total training time: 0.06 seconds.-- Epoch 5\n",
      "\n",
      "-- Epoch 5\n",
      "Norm: 22.58, NNZs: 2811, Bias: -3.331089, T: 159096, Avg. loss: 0.055483\n",
      "Total training time: 0.06 seconds.\n",
      "-- Epoch 5\n",
      "Norm: 29.58, NNZs: 2811, Bias: -2.517669, T: 159096, Avg. loss: 0.125707\n",
      "Total training time: 0.06 seconds.\n",
      "-- Epoch 5\n",
      "Norm: 23.43, NNZs: 2811, Bias: -3.801848, T: 159096, Avg. loss: 0.047350\n",
      "Total training time: 0.06 seconds.Norm: 24.39, NNZs: 2811, Bias: -3.925642, T: 198870, Avg. loss: 0.061273\n",
      "-- Epoch 5\n",
      "Total training time: 0.08 seconds.\n",
      "\n",
      "-- Epoch 6\n",
      "Norm: 19.63, NNZs: 2811, Bias: -3.984187, T: 198870, Avg. loss: 0.035325\n",
      "Total training time: 0.08 seconds.\n",
      "-- Epoch 6\n",
      "Norm: 28.74, NNZs: 2811, Bias: -3.357294, T: 198870, Avg. loss: 0.063373\n",
      "Total training time: 0.07 seconds.\n",
      "-- Epoch 6\n",
      "Norm: 27.20, NNZs: 2811, Bias: -3.569637, T: 198870, Avg. loss: 0.072864\n",
      "Total training time: 0.08 seconds.Norm: 24.07, NNZs: 2811, Bias: -3.942913, T: 198870, Avg. loss: 0.047232\n",
      "\n",
      "Total training time: 0.07 seconds.-- Epoch 6\n",
      "-- Epoch 6\n",
      "\n",
      "Norm: 22.57, NNZs: 2811, Bias: -3.355034, T: 198870, Avg. loss: 0.055386\n",
      "Total training time: 0.07 seconds.\n",
      "-- Epoch 6\n",
      "Norm: 29.54, NNZs: 2811, Bias: -2.518811, T: 198870, Avg. loss: 0.125136\n",
      "Total training time: 0.07 seconds.\n",
      "-- Epoch 6\n",
      "Norm: 23.44, NNZs: 2811, Bias: -3.836031, T: 198870, Avg. loss: 0.047226Norm: 24.40, NNZs: 2811, Bias: -3.956834, T: 238644, Avg. loss: 0.061168\n",
      "\n",
      "Total training time: 0.09 seconds.\n",
      "-- Epoch 7Total training time: 0.07 seconds.\n",
      "-- Epoch 6\n",
      "\n",
      "Norm: 19.62, NNZs: 2811, Bias: -4.031932, T: 238644, Avg. loss: 0.035182\n",
      "Total training time: 0.10 seconds.\n",
      "-- Epoch 7\n",
      "Norm: 28.57, NNZs: 2811, Bias: -3.395235, T: 238644, Avg. loss: 0.063029\n",
      "Total training time: 0.09 seconds.\n",
      "-- Epoch 7\n",
      "Norm: 27.17, NNZs: 2811, Bias: -3.583320, T: 238644, Avg. loss: 0.072703\n",
      "Total training time: 0.09 seconds.Norm: 23.98, NNZs: 2811, Bias: -3.981586, T: 238644, Avg. loss: 0.047025\n",
      "\n",
      "Total training time: 0.09 seconds.-- Epoch 7\n",
      "\n",
      "-- Epoch 7\n",
      "Norm: 22.57, NNZs: 2811, Bias: -3.380012, T: 238644, Avg. loss: 0.055272\n",
      "Total training time: 0.09 seconds.\n",
      "-- Epoch 7\n",
      "Norm: 29.47, NNZs: 2811, Bias: -2.525844, T: 238644, Avg. loss: 0.124924\n",
      "Total training time: 0.09 seconds.\n",
      "-- Epoch 7\n",
      "Norm: 23.37, NNZs: 2811, Bias: -3.876180, T: 238644, Avg. loss: 0.047018\n",
      "Total training time: 0.09 seconds.\n",
      "-- Epoch 7\n",
      "Norm: 24.36, NNZs: 2811, Bias: -3.982282, T: 278418, Avg. loss: 0.060990\n",
      "Total training time: 0.11 seconds.\n",
      "-- Epoch 8\n",
      "Norm: 19.57, NNZs: 2811, Bias: -4.074967, T: 278418, Avg. loss: 0.035040\n",
      "Total training time: 0.11 seconds.\n",
      "Convergence after 7 epochs took 0.11 seconds\n",
      "Norm: 28.65, NNZs: 2811, Bias: -3.403936, T: 278418, Avg. loss: 0.063124\n",
      "-- Epoch 1Total training time: 0.10 seconds.\n",
      "\n",
      "-- Epoch 8\n",
      "Norm: 27.18, NNZs: 2811, Bias: -3.599950, T: 278418, Avg. loss: 0.072599\n",
      "Total training time: 0.11 seconds.Norm: 23.95, NNZs: 2811, Bias: -4.012304, T: 278418, Avg. loss: 0.046955\n",
      "Total training time: 0.10 seconds.\n",
      "-- Epoch 8\n",
      "\n",
      "-- Epoch 8\n",
      "Norm: 22.54, NNZs: 2811, Bias: -3.403830, T: 278418, Avg. loss: 0.055148\n",
      "Total training time: 0.10 seconds.\n",
      "Convergence after 7 epochs took 0.10 seconds\n",
      "-- Epoch 1\n",
      "Norm: 29.49, NNZs: 2811, Bias: -2.527604, T: 278418, Avg. loss: 0.124656\n",
      "Total training time: 0.10 seconds.\n",
      "-- Epoch 8\n",
      "Norm: 23.35, NNZs: 2811, Bias: -3.903373, T: 278418, Avg. loss: 0.046930\n",
      "Total training time: 0.10 seconds.\n",
      "Convergence after 7 epochs took 0.10 seconds\n",
      "Norm: 24.31, NNZs: 2811, Bias: -4.002935, T: 318192, Avg. loss: 0.060875\n",
      "Total training time: 0.12 seconds.-- Epoch 1\n",
      "\n",
      "Convergence after 8 epochs took 0.12 seconds\n",
      "-- Epoch 1\n",
      "Norm: 21.76, NNZs: 2811, Bias: -3.100732, T: 39774, Avg. loss: 0.050424\n",
      "Total training time: 0.01 seconds.\n",
      "-- Epoch 2Norm: 28.61, NNZs: 2811, Bias: -3.424497, T: 318192, Avg. loss: 0.062988\n",
      "\n",
      "Total training time: 0.12 seconds.\n",
      "Convergence after 8 epochs took 0.12 seconds\n",
      "-- Epoch 1Norm: 23.96, NNZs: 2811, Bias: -4.039136, T: 318192, Avg. loss: 0.046894\n",
      "Total training time: 0.12 seconds.\n",
      "Convergence after 8 epochs took 0.12 seconds\n",
      "\n",
      "Norm: 27.20, NNZs: 2811, Bias: -3.614614, T: 318192, Avg. loss: 0.072469\n",
      "Total training time: 0.12 seconds.\n",
      "Convergence after 8 epochs took 0.13 seconds-- Epoch 1\n",
      "\n",
      "-- Epoch 1\n",
      "Norm: 39.14, NNZs: 2811, Bias: -1.604923, T: 39774, Avg. loss: 0.180161\n",
      "Total training time: 0.01 seconds.\n",
      "-- Epoch 2\n",
      "Norm: 29.42, NNZs: 2811, Bias: -2.550439, T: 318192, Avg. loss: 0.124468\n",
      "Total training time: 0.12 seconds.\n",
      "Convergence after 8 epochs took 0.12 seconds\n",
      "-- Epoch 1Norm: 22.44, NNZs: 2811, Bias: -3.672463, T: 39774, Avg. loss: 0.032420\n",
      "Total training time: 0.01 seconds.\n",
      "\n",
      "-- Epoch 2\n",
      "Norm: 26.83, NNZs: 2811, Bias: -2.616117, T: 39774, Avg. loss: 0.064383\n",
      "Total training time: 0.01 seconds.\n",
      "-- Epoch 2\n",
      "Norm: 21.05, NNZs: 2811, Bias: -3.313919, T: 79548, Avg. loss: 0.044645\n",
      "Total training time: 0.03 seconds.\n",
      "-- Epoch 3\n",
      "Norm: 23.78, NNZs: 2811, Bias: -3.544931, T: 39774, Avg. loss: 0.039735\n",
      "Total training time: 0.01 seconds.\n",
      "-- Epoch 2\n",
      "Norm: 36.32, NNZs: 2811, Bias: -2.536428, T: 39774, Avg. loss: 0.107704\n",
      "Total training time: 0.01 seconds.\n",
      "Norm: 23.45, NNZs: 2811, Bias: -3.518426, T: 39774, Avg. loss: 0.038936\n",
      "Total training time: 0.01 seconds.-- Epoch 2\n",
      "\n",
      "-- Epoch 2\n",
      "Norm: 37.86, NNZs: 2811, Bias: -1.577909, T: 79548, Avg. loss: 0.159392\n",
      "Total training time: 0.03 seconds.\n",
      "-- Epoch 3\n",
      "Norm: 21.78, NNZs: 2811, Bias: -3.913389, T: 79548, Avg. loss: 0.027682\n",
      "Total training time: 0.03 seconds.\n",
      "Norm: 19.92, NNZs: 2811, Bias: -3.417068, T: 39774, Avg. loss: 0.043728-- Epoch 3\n",
      "\n",
      "Total training time: 0.01 seconds.\n",
      "-- Epoch 2Norm: 26.50, NNZs: 2811, Bias: -2.742158, T: 79548, Avg. loss: 0.058359\n",
      "\n",
      "Total training time: 0.03 seconds.\n",
      "-- Epoch 3\n",
      "Norm: 20.99, NNZs: 2811, Bias: -3.428937, T: 119322, Avg. loss: 0.044125\n",
      "Total training time: 0.04 seconds.\n",
      "-- Epoch 4\n",
      "Norm: 23.04, NNZs: 2811, Bias: -3.788166, T: 79548, Avg. loss: 0.033798\n",
      "Total training time: 0.03 seconds.\n",
      "-- Epoch 3\n",
      "Norm: 23.24, NNZs: 2811, Bias: -3.759341, T: 79548, Avg. loss: 0.034138\n",
      "Norm: 35.80, NNZs: 2811, Bias: -2.580016, T: 79548, Avg. loss: 0.096493Total training time: 0.03 seconds.\n",
      "Total training time: 0.03 seconds.\n",
      "\n",
      "-- Epoch 3-- Epoch 3\n",
      "\n",
      "Norm: 37.71, NNZs: 2811, Bias: -1.610970, T: 119322, Avg. loss: 0.157471\n",
      "Total training time: 0.05 seconds.\n",
      "-- Epoch 4Norm: 19.53, NNZs: 2811, Bias: -3.636451, T: 79548, Avg. loss: 0.038970\n",
      "Total training time: 0.03 seconds.\n",
      "Norm: 21.56, NNZs: 2811, Bias: -4.066041, T: 119322, Avg. loss: 0.027186-- Epoch 3\n",
      "\n",
      "Total training time: 0.04 seconds.\n",
      "Norm: 26.48, NNZs: 2811, Bias: -2.811890, T: 119322, Avg. loss: 0.057496-- Epoch 4\n",
      "\n",
      "Norm: 20.98, NNZs: 2811, Bias: -3.502614, T: 159096, Avg. loss: 0.043718\n",
      "Total training time: 0.06 seconds.\n",
      "-- Epoch 5\n",
      "Norm: 23.05, NNZs: 2811, Bias: -3.904089, T: 119322, Avg. loss: 0.033463\n",
      "\n",
      "Total training time: 0.05 seconds.Total training time: 0.04 seconds.\n",
      "\n",
      "-- Epoch 4-- Epoch 4\n",
      "\n",
      "Norm: 35.51, NNZs: 2811, Bias: -2.571872, T: 119322, Avg. loss: 0.095238\n",
      "Norm: 23.01, NNZs: 2811, Bias: -3.883079, T: 119322, Avg. loss: 0.033443Total training time: 0.05 seconds.\n",
      "\n"
     ]
    },
    {
     "name": "stdout",
     "output_type": "stream",
     "text": [
      "Total training time: 0.05 seconds.\n",
      "-- Epoch 4\n",
      "Norm: 19.33, NNZs: 2811, Bias: -3.767835, T: 119322, Avg. loss: 0.038080-- Epoch 4Norm: 21.50, NNZs: 2811, Bias: -4.159758, T: 159096, Avg. loss: 0.026845\n",
      "\n",
      "Total training time: 0.04 seconds.\n",
      "-- Epoch 4\n",
      "\n",
      "Total training time: 0.06 seconds.\n",
      "-- Epoch 5\n",
      "Norm: 37.57, NNZs: 2811, Bias: -1.605602, T: 159096, Avg. loss: 0.156366\n",
      "Total training time: 0.07 seconds.\n",
      "-- Epoch 5\n",
      "Norm: 20.96, NNZs: 2811, Bias: -3.540181, T: 198870, Avg. loss: 0.043501\n",
      "Total training time: 0.08 seconds.\n",
      "-- Epoch 6\n",
      "Norm: 26.40, NNZs: 2811, Bias: -2.877736, T: 159096, Avg. loss: 0.056953\n",
      "Total training time: 0.07 seconds.\n",
      "-- Epoch 5\n",
      "Norm: 22.89, NNZs: 2811, Bias: -3.998766, T: 159096, Avg. loss: 0.033094\n",
      "Total training time: 0.06 seconds.\n",
      "-- Epoch 5\n",
      "Norm: 19.30, NNZs: 2811, Bias: -3.838502, T: 159096, Avg. loss: 0.037886\n",
      "Norm: 35.46, NNZs: 2811, Bias: -2.617656, T: 159096, Avg. loss: 0.094673\n",
      "Total training time: 0.07 seconds.\n",
      "-- Epoch 5\n",
      "Total training time: 0.06 seconds.\n",
      "-- Epoch 5\n",
      "Norm: 22.96, NNZs: 2811, Bias: -3.968279, T: 159096, Avg. loss: 0.033155\n",
      "Norm: 21.50, NNZs: 2811, Bias: -4.215945, T: 198870, Avg. loss: 0.026771Norm: 20.90, NNZs: 2811, Bias: -3.576607, T: 238644, Avg. loss: 0.043368\n",
      "Total training time: 0.08 seconds.\n",
      "\n",
      "Total training time: 0.09 seconds.\n",
      "Total training time: 0.07 seconds.-- Epoch 6\n",
      "-- Epoch 7\n",
      "\n",
      "Norm: 26.28, NNZs: 2811, Bias: -2.889172, T: 198870, Avg. loss: 0.056820\n",
      "Total training time: 0.08 seconds.\n",
      "-- Epoch 6\n",
      "Norm: 22.90, NNZs: 2811, Bias: -4.046512, T: 198870, Avg. loss: 0.032976Norm: 37.49, NNZs: 2811, Bias: -1.611768, T: 198870, Avg. loss: 0.155789\n",
      "-- Epoch 5\n",
      "Total training time: 0.09 seconds.\n",
      "\n",
      "Total training time: 0.08 seconds.\n",
      "-- Epoch 6\n",
      "-- Epoch 6\n",
      "Norm: 19.25, NNZs: 2811, Bias: -3.891833, T: 198870, Avg. loss: 0.037588Norm: 35.36, NNZs: 2811, Bias: -2.622676, T: 198870, Avg. loss: 0.094466\n",
      "Total training time: 0.07 seconds.\n",
      "\n",
      "Total training time: 0.08 seconds.\n",
      "-- Epoch 6\n",
      "-- Epoch 6\n",
      "Norm: 21.42, NNZs: 2811, Bias: -4.268755, T: 238644, Avg. loss: 0.026565\n",
      "Total training time: 0.10 seconds.\n",
      "-- Epoch 7Norm: 20.86, NNZs: 2811, Bias: -3.610909, T: 278418, Avg. loss: 0.043271\n",
      "\n",
      "Norm: 26.31, NNZs: 2811, Bias: -2.921851, T: 238644, Avg. loss: 0.056771Total training time: 0.11 seconds.\n",
      "\n",
      "Total training time: 0.10 seconds.\n",
      "Convergence after 7 epochs took 0.11 seconds\n",
      "-- Epoch 7\n",
      "Norm: 23.05, NNZs: 2811, Bias: -4.012940, T: 198870, Avg. loss: 0.033016\n",
      "Total training time: 0.09 seconds.\n",
      "-- Epoch 6\n",
      "-- Epoch 1\n",
      "Norm: 37.39, NNZs: 2811, Bias: -1.608606, T: 238644, Avg. loss: 0.155428\n",
      "Total training time: 0.10 seconds.\n",
      "-- Epoch 7\n",
      "Norm: 22.91, NNZs: 2811, Bias: -4.081822, T: 238644, Avg. loss: 0.032792\n",
      "Total training time: 0.10 seconds.\n",
      "-- Epoch 7\n",
      "Norm: 35.33, NNZs: 2811, Bias: -2.628611, T: 238644, Avg. loss: 0.094236\n",
      "Total training time: 0.09 seconds.\n",
      "-- Epoch 7\n",
      "Norm: 19.19, NNZs: 2811, Bias: -3.944863, T: 238644, Avg. loss: 0.037555\n",
      "Total training time: 0.09 seconds.\n",
      "-- Epoch 7\n",
      "Norm: 21.39, NNZs: 2811, Bias: -4.309714, T: 278418, Avg. loss: 0.026548Norm: 26.24, NNZs: 2811, Bias: -2.928660, T: 278418, Avg. loss: 0.056555\n",
      "Total training time: 0.11 seconds.\n",
      "\n",
      "Total training time: 0.11 seconds.\n",
      "Convergence after 7 epochs took 0.11 seconds\n",
      "Convergence after 7 epochs took 0.11 seconds\n",
      "-- Epoch 1\n",
      "-- Epoch 1\n",
      "Norm: 35.16, NNZs: 2811, Bias: -2.485610, T: 39774, Avg. loss: 0.166673\n",
      "Total training time: 0.01 seconds.\n",
      "-- Epoch 2\n",
      "Norm: 22.76, NNZs: 2811, Bias: -4.123879, T: 278418, Avg. loss: 0.032715\n",
      "Total training time: 0.11 seconds.\n",
      "Convergence after 7 epochs took 0.11 seconds\n",
      "Norm: 37.35, NNZs: 2811, Bias: -1.611439, T: 278418, Avg. loss: 0.155224\n",
      "-- Epoch 1\n",
      "Norm: 35.33, NNZs: 2811, Bias: -2.633357, T: 278418, Avg. loss: 0.094124Total training time: 0.12 seconds.\n",
      "\n",
      "Total training time: 0.11 seconds.\n",
      "-- Epoch 8\n",
      "-- Epoch 8\n",
      "Norm: 23.01, NNZs: 2811, Bias: -4.056641, T: 238644, Avg. loss: 0.032889Norm: 19.14, NNZs: 2811, Bias: -3.979742, T: 278418, Avg. loss: 0.037395\n",
      "Total training time: 0.11 seconds.\n",
      "\n",
      "Total training time: 0.11 seconds.\n",
      "-- Epoch 7\n",
      "Convergence after 7 epochs took 0.11 seconds\n",
      "Norm: 23.17, NNZs: 2811, Bias: -3.385226, T: 39774, Avg. loss: 0.075638\n",
      "Norm: 23.58, NNZs: 2811, Bias: -3.694076, T: 39774, Avg. loss: 0.063745\n",
      "Total training time: 0.01 seconds.\n",
      "Total training time: 0.01 seconds.\n",
      "-- Epoch 2\n",
      "-- Epoch 2\n",
      "Norm: 34.65, NNZs: 2811, Bias: -2.522187, T: 79548, Avg. loss: 0.146040\n",
      "Total training time: 0.03 seconds.\n",
      "-- Epoch 3\n",
      "Norm: 21.50, NNZs: 2811, Bias: -3.543224, T: 39774, Avg. loss: 0.054455\n",
      "Total training time: 0.01 seconds.\n",
      "-- Epoch 2\n",
      "Norm: 35.30, NNZs: 2811, Bias: -2.642026, T: 318192, Avg. loss: 0.094029\n",
      "Norm: 37.38, NNZs: 2811, Bias: -1.615331, T: 318192, Avg. loss: 0.155099\n",
      "Total training time: 0.14 seconds.\n",
      "Total training time: 0.13 seconds.\n",
      "-- Epoch 9\n",
      "Convergence after 8 epochs took 0.13 seconds\n",
      "Norm: 22.90, NNZs: 2811, Bias: -4.096124, T: 278418, Avg. loss: 0.032725\n",
      "Total training time: 0.13 seconds.\n",
      "Convergence after 7 epochs took 0.13 seconds\n",
      "Norm: 22.71, NNZs: 2811, Bias: -3.549810, T: 79548, Avg. loss: 0.067101\n",
      "Total training time: 0.03 seconds.\n",
      "-- Epoch 3\n",
      "Norm: 23.12, NNZs: 2811, Bias: -3.926883, T: 79548, Avg. loss: 0.055980\n",
      "Total training time: 0.03 seconds.\n",
      "-- Epoch 3\n",
      "Norm: 34.53, NNZs: 2811, Bias: -2.527191, T: 119322, Avg. loss: 0.144230\n",
      "Total training time: 0.04 seconds.\n",
      "-- Epoch 4\n",
      "Norm: 20.56, NNZs: 2811, Bias: -3.761514, T: 79548, Avg. loss: 0.047571\n",
      "Total training time: 0.03 seconds.\n",
      "-- Epoch 3\n",
      "Norm: 37.34, NNZs: 2811, Bias: -1.617574, T: 357966, Avg. loss: 0.154757\n",
      "Total training time: 0.15 seconds.\n",
      "Convergence after 9 epochs took 0.15 seconds\n",
      "Norm: 22.43, NNZs: 2811, Bias: -3.626003, T: 119322, Avg. loss: 0.065910\n",
      "Total training time: 0.04 seconds.\n",
      "-- Epoch 4\n",
      "Norm: 22.88, NNZs: 2811, Bias: -4.036124, T: 119322, Avg. loss: 0.054875\n",
      "Total training time: 0.04 seconds.\n",
      "-- Epoch 4\n",
      "Norm: 34.54, NNZs: 2811, Bias: -2.545853, T: 159096, Avg. loss: 0.143304\n",
      "Total training time: 0.06 seconds.\n",
      "-- Epoch 5\n",
      "Norm: 20.92, NNZs: 2811, Bias: -3.869805, T: 119322, Avg. loss: 0.047082\n",
      "Total training time: 0.04 seconds.\n",
      "-- Epoch 4\n",
      "Norm: 34.43, NNZs: 2811, Bias: -2.558634, T: 198870, Avg. loss: 0.142609\n",
      "Total training time: 0.08 seconds.Norm: 22.40, NNZs: 2811, Bias: -3.682947, T: 159096, Avg. loss: 0.065442\n",
      "\n",
      "Total training time: 0.06 seconds.\n",
      "-- Epoch 6\n",
      "Norm: 22.82, NNZs: 2811, Bias: -4.104338, T: 159096, Avg. loss: 0.054448-- Epoch 5\n",
      "\n",
      "Total training time: 0.06 seconds.\n",
      "-- Epoch 5\n",
      "Norm: 20.80, NNZs: 2811, Bias: -3.946367, T: 159096, Avg. loss: 0.046519\n",
      "Total training time: 0.07 seconds.\n",
      "-- Epoch 5\n",
      "Norm: 34.39, NNZs: 2811, Bias: -2.564882, T: 238644, Avg. loss: 0.142256\n",
      "Total training time: 0.09 seconds.\n",
      "-- Epoch 7\n",
      "Norm: 22.90, NNZs: 2811, Bias: -4.150053, T: 198870, Avg. loss: 0.054220\n",
      "Norm: 22.41, NNZs: 2811, Bias: -3.726028, T: 198870, Avg. loss: 0.065276\n",
      "Total training time: 0.08 seconds.\n",
      "Total training time: 0.08 seconds.\n",
      "-- Epoch 6\n",
      "-- Epoch 6\n",
      "Norm: 20.79, NNZs: 2811, Bias: -3.984935, T: 198870, Avg. loss: 0.046336\n",
      "Total training time: 0.08 seconds.\n",
      "-- Epoch 6\n",
      "Norm: 34.40, NNZs: 2811, Bias: -2.576339, T: 278418, Avg. loss: 0.142059\n",
      "Total training time: 0.10 seconds.\n",
      "-- Epoch 8\n",
      "Norm: 22.86, NNZs: 2811, Bias: -4.185791, T: 238644, Avg. loss: 0.053981\n",
      "Total training time: 0.09 seconds.\n",
      "-- Epoch 7\n",
      "Norm: 22.48, NNZs: 2811, Bias: -3.739620, T: 238644, Avg. loss: 0.065072\n",
      "Total training time: 0.09 seconds.\n",
      "-- Epoch 7\n",
      "Norm: 20.64, NNZs: 2811, Bias: -4.038335, T: 238644, Avg. loss: 0.046207\n",
      "Total training time: 0.09 seconds.\n",
      "-- Epoch 7\n",
      "Norm: 34.41, NNZs: 2811, Bias: -2.568920, T: 318192, Avg. loss: 0.141845\n",
      "Total training time: 0.12 seconds.\n",
      "Convergence after 8 epochs took 0.12 seconds\n",
      "Norm: 22.76, NNZs: 2811, Bias: -4.220634, T: 278418, Avg. loss: 0.053884\n",
      "Total training time: 0.10 seconds.\n",
      "-- Epoch 8\n",
      "Norm: 22.40, NNZs: 2811, Bias: -3.768996, T: 278418, Avg. loss: 0.064923\n",
      "Total training time: 0.11 seconds.\n",
      "-- Epoch 8\n",
      "Norm: 20.61, NNZs: 2811, Bias: -4.069376, T: 278418, Avg. loss: 0.046071\n",
      "Total training time: 0.11 seconds.\n",
      "Convergence after 7 epochs took 0.11 seconds\n",
      "Norm: 22.69, NNZs: 2811, Bias: -4.249244, T: 318192, Avg. loss: 0.053824\n",
      "Total training time: 0.12 seconds.\n",
      "Convergence after 8 epochs took 0.12 seconds\n",
      "Norm: 22.39, NNZs: 2811, Bias: -3.787532, T: 318192, Avg. loss: 0.064875\n",
      "Total training time: 0.12 seconds.\n",
      "Convergence after 8 epochs took 0.12 seconds\n"
     ]
    },
    {
     "name": "stderr",
     "output_type": "stream",
     "text": [
      "[Parallel(n_jobs=-1)]: Done  20 out of  20 | elapsed:    0.3s finished\n"
     ]
    }
   ],
   "source": [
    "Best_vclf = VotingClassifier(estimators=[('clf1', LogisticRegression(C=10,dual=False, multi_class= 'ovr')),\n",
    "                                       ('clf2', OneVsRestClassifier(SVC(C= 10, gamma= 1, kernel= 'rbf', \n",
    "                                                                        probability=True))), \n",
    "                                       ('clf3', SGDClassifier(alpha = 4e-05, loss = 'log', max_iter = 1000, \n",
    "                                                              n_jobs = -1, penalty = 'l2', verbose = 1))],\n",
    "                           voting='soft',weights=[1,2,3])\n",
    "\n",
    "Voting_clf_best = Best_vclf.fit(X_train_vectorized, y_transformed)\n",
    "\n",
    "y_predicted = Best_vclf.predict(Result_transformed)\n",
    "y_predicted_final = encoder.inverse_transform(y_predicted)\n",
    "predictions = pd.DataFrame({'cuisine' : y_predicted_final , 'id' : test_df.id })\n",
    "predictions = predictions[[ 'id' , 'cuisine']]\n",
    "predictions.to_csv('submit_votingclf_best.csv', index = False)"
   ]
  },
  {
   "cell_type": "markdown",
   "metadata": {},
   "source": [
    "# With the Voting Classifier, I could get the best score of 0.81074!"
   ]
  },
  {
   "cell_type": "code",
   "execution_count": null,
   "metadata": {},
   "outputs": [],
   "source": []
  }
 ],
 "metadata": {
  "kernelspec": {
   "display_name": "Python 3",
   "language": "python",
   "name": "python3"
  },
  "language_info": {
   "codemirror_mode": {
    "name": "ipython",
    "version": 3
   },
   "file_extension": ".py",
   "mimetype": "text/x-python",
   "name": "python",
   "nbconvert_exporter": "python",
   "pygments_lexer": "ipython3",
   "version": "3.7.4"
  }
 },
 "nbformat": 4,
 "nbformat_minor": 2
}
